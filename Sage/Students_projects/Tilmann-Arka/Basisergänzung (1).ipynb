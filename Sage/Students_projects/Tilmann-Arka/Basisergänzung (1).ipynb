{
 "cells": [
  {
   "cell_type": "code",
   "execution_count": 0,
   "metadata": {
    "collapsed": false
   },
   "outputs": [
   ],
   "source": [
    "n = 5"
   ]
  },
  {
   "cell_type": "code",
   "execution_count": 0,
   "metadata": {
    "collapsed": false
   },
   "outputs": [
   ],
   "source": [
    "family = [column_matrix(QQ, [1, 2, 3, 4, 5]), column_matrix(QQ, [2, 4, 6, 8, 10]), column_matrix(QQ, [1, 2, 3, 4, 6]), column_matrix(QQ, [1, 0, 0, 0, 0]) ]"
   ]
  },
  {
   "cell_type": "code",
   "execution_count": 0,
   "metadata": {
    "collapsed": false
   },
   "outputs": [
   ],
   "source": [
    "show(family)"
   ]
  },
  {
   "cell_type": "code",
   "execution_count": 0,
   "metadata": {
    "collapsed": false
   },
   "outputs": [
   ],
   "source": [
    "basis_F = []\n",
    "basis_F_C = []\n",
    "\n",
    "# Testst if the family contains a vector. If it dosn't, nothing happens (as this would be a boring problem)\n",
    "\n",
    "if(len(family)>0):\n",
    "    \n",
    "    #Puts all the vectors in the family in a matrix\n",
    "    mat = matrix(QQ, family[0])\n",
    "    for i in range(1, len(family)):\n",
    "        mat = mat.augment(family[i])\n",
    "    \n",
    "    #augments the matrix with the identity matrix. No it is guaranteed that the matrix contains all necessary basis vectors as coulumns\n",
    "    mat = mat.augment(identity_matrix(5), subdivide=True)\n",
    "    \n",
    "    #calculates the echelon form of that matrix. The position of all basis vectors can now be read as the position of the pivot elements.\n",
    "    echelon = mat.echelon_form()\n",
    "    \n",
    "    c = 0\n",
    "    \n",
    "    # finds all the pivot elements; if it is a pivot element this vector is a basis vector of the given space and will be added to the list of basis vectors\n",
    "    for i in range(len(family)+n):\n",
    "        #checks if pivot element\n",
    "        if(c<n and echelon[c, i]==1):\n",
    "            c = c+1\n",
    "            #checks if it is part of the given family of vectors; appends the vector to the according list\n",
    "            if(i<len(family)):\n",
    "                basis_F.append(mat[:, i])\n",
    "            else:\n",
    "                basis_F_C.append(mat[:, i])"
   ]
  },
  {
   "cell_type": "code",
   "execution_count": 0,
   "metadata": {
    "collapsed": false
   },
   "outputs": [
   ],
   "source": [
    "show(basis_F)"
   ]
  },
  {
   "cell_type": "code",
   "execution_count": 0,
   "metadata": {
    "collapsed": false
   },
   "outputs": [
   ],
   "source": [
    "show(basis_F_C)"
   ]
  },
  {
   "cell_type": "code",
   "execution_count": 0,
   "metadata": {
    "collapsed": false
   },
   "outputs": [
   ],
   "source": [
   ]
  }
 ],
 "metadata": {
  "kernelspec": {
   "argv": [
    "sage-9.8",
    "--python",
    "-m",
    "sage.repl.ipython_kernel",
    "--matplotlib=inline",
    "-f",
    "{connection_file}"
   ],
   "display_name": "SageMath 9.8",
   "env": {
   },
   "language": "sagemath",
   "metadata": {
    "cocalc": {
     "description": "Open-source mathematical software system",
     "priority": 10,
     "url": "https://www.sagemath.org/"
    }
   },
   "name": "sage-9.8",
   "resource_dir": "/ext/jupyter/kernels/sage-9.8"
  },
  "language_info": {
   "codemirror_mode": {
    "name": "ipython",
    "version": 2
   },
   "file_extension": ".py",
   "mimetype": "text/x-python",
   "name": "python",
   "nbconvert_exporter": "python",
   "pygments_lexer": "ipython2",
   "version": "2.7.12+"
  }
 },
 "nbformat": 4,
 "nbformat_minor": 4
}